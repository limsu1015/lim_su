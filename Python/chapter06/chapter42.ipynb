{
 "cells": [
  {
   "cell_type": "code",
   "execution_count": 7,
   "metadata": {},
   "outputs": [
    {
     "name": "stdout",
     "output_type": "stream",
     "text": [
      "이름\t총점\t평균\n",
      "백현우\t12\t3.0\n",
      "홍혜인\t15\t3.75\n",
      "윤운성\t12\t3.0\n",
      "홍수철\t11\t2.75\n"
     ]
    }
   ],
   "source": [
    "oz_student = [\n",
    "    {\"name\": \"백현우\", \"python\": 4, \"database\": 3, \"Django\": 3, \"AWS\": 2},\n",
    "    {\"name\": \"홍혜인\", \"python\": 4, \"database\": 5, \"Django\": 2, \"AWS\": 4},\n",
    "    {\"name\": \"윤운성\", \"python\": 3, \"database\": 4, \"Django\": 4, \"AWS\": 1},\n",
    "    {\"name\": \"홍수철\", \"python\": 2, \"database\": 3, \"Django\": 1, \"AWS\": 5},\n",
    "]\n",
    "\n",
    "print(\"이름\", \"총점\", \"평균\", sep=\"\\t\")\n",
    "\n",
    "for student in oz_student:\n",
    "    ablity_sum = student[\"python\"] + student[\"database\"] + student[\"Django\"] + student[\"AWS\"]\n",
    "    ablity_average = ablity_sum / 4\n",
    "\n",
    "    print(student[\"name\"], ablity_sum, ablity_average, sep=\"\\t\")"
   ]
  },
  {
   "cell_type": "code",
   "execution_count": 5,
   "metadata": {},
   "outputs": [
    {
     "name": "stdout",
     "output_type": "stream",
     "text": [
      "이름\t총점\t평균\n",
      "백현우\t12\t3.0\n",
      "홍혜인\t15\t3.75\n",
      "윤은성\t12\t3.0\n",
      "홍수철\t11\t2.75\n"
     ]
    }
   ],
   "source": [
    "def create_oz_students(name, python, database, django, AWS):\n",
    "    return{\n",
    "        \"name\" : name,\n",
    "        \"python\" : python,\n",
    "        \"database\" : database,\n",
    "        \"Django\" : django,\n",
    "        \"AWS\" : AWS\n",
    "    }\n",
    "\n",
    "oz_student = [\n",
    "    create_oz_students(\"백현우\", 4, 3, 3, 2),\n",
    "    create_oz_students(\"홍혜인\", 4, 5, 2, 4),\n",
    "    create_oz_students(\"윤은성\", 3, 4, 4, 1),\n",
    "    create_oz_students(\"홍수철\", 2, 3, 1, 5),\n",
    "]\n",
    "\n",
    "print(\"이름\", \"총점\", \"평균\", sep=\"\\t\")\n",
    "\n",
    "for student in oz_student:\n",
    "    ablity_sum = student[\"python\"] + student[\"database\"] + student[\"Django\"] + student[\"AWS\"]\n",
    "    ablity_average = ablity_sum / 4\n",
    "\n",
    "    print(student[\"name\"], ablity_sum, ablity_average, sep=\"\\t\")\n"
   ]
  },
  {
   "cell_type": "code",
   "execution_count": 10,
   "metadata": {},
   "outputs": [
    {
     "name": "stdout",
     "output_type": "stream",
     "text": [
      "이름\t총점\t평군\n"
     ]
    },
    {
     "ename": "TypeError",
     "evalue": "unsupported operand type(s) for /: 'function' and 'int'",
     "output_type": "error",
     "traceback": [
      "\u001b[0;31m---------------------------------------------------------------------------\u001b[0m",
      "\u001b[0;31mTypeError\u001b[0m                                 Traceback (most recent call last)",
      "Cell \u001b[0;32mIn[10], line 30\u001b[0m\n\u001b[1;32m     27\u001b[0m \u001b[38;5;28mprint\u001b[39m(\u001b[38;5;124m\"\u001b[39m\u001b[38;5;124m이름\u001b[39m\u001b[38;5;124m\"\u001b[39m, \u001b[38;5;124m\"\u001b[39m\u001b[38;5;124m총점\u001b[39m\u001b[38;5;124m\"\u001b[39m, \u001b[38;5;124m\"\u001b[39m\u001b[38;5;124m평군\u001b[39m\u001b[38;5;124m\"\u001b[39m, sep\u001b[38;5;241m=\u001b[39m\u001b[38;5;124m\"\u001b[39m\u001b[38;5;130;01m\\t\u001b[39;00m\u001b[38;5;124m\"\u001b[39m)\n\u001b[1;32m     29\u001b[0m \u001b[38;5;28;01mfor\u001b[39;00m student \u001b[38;5;129;01min\u001b[39;00m oz_students:\n\u001b[0;32m---> 30\u001b[0m     \u001b[38;5;28mprint\u001b[39m(\u001b[43mto_string\u001b[49m\u001b[43m(\u001b[49m\u001b[43mstudent\u001b[49m\u001b[43m)\u001b[49m)\n",
      "Cell \u001b[0;32mIn[10], line 17\u001b[0m, in \u001b[0;36mto_string\u001b[0;34m(student)\u001b[0m\n\u001b[1;32m     16\u001b[0m \u001b[38;5;28;01mdef\u001b[39;00m \u001b[38;5;21mto_string\u001b[39m(student):\n\u001b[0;32m---> 17\u001b[0m     \u001b[38;5;28;01mreturn\u001b[39;00m \u001b[38;5;124mf\u001b[39m\u001b[38;5;124m'\u001b[39m\u001b[38;5;132;01m{\u001b[39;00mstudent[\u001b[38;5;124m\"\u001b[39m\u001b[38;5;124mname\u001b[39m\u001b[38;5;124m\"\u001b[39m]\u001b[38;5;132;01m}\u001b[39;00m\u001b[38;5;130;01m\\t\u001b[39;00m\u001b[38;5;132;01m{\u001b[39;00mget_sum(student)\u001b[38;5;132;01m}\u001b[39;00m\u001b[38;5;130;01m\\t\u001b[39;00m\u001b[38;5;132;01m{\u001b[39;00mget_average(student)\u001b[38;5;132;01m}\u001b[39;00m\u001b[38;5;124m'\u001b[39m\n",
      "Cell \u001b[0;32mIn[10], line 14\u001b[0m, in \u001b[0;36mget_average\u001b[0;34m(student)\u001b[0m\n\u001b[1;32m     13\u001b[0m \u001b[38;5;28;01mdef\u001b[39;00m \u001b[38;5;21mget_average\u001b[39m(student):\n\u001b[0;32m---> 14\u001b[0m     \u001b[38;5;28;01mreturn\u001b[39;00m \u001b[43mget_sum\u001b[49m\u001b[43m \u001b[49m\u001b[38;5;241;43m/\u001b[39;49m\u001b[43m \u001b[49m\u001b[38;5;241;43m4\u001b[39;49m\n",
      "\u001b[0;31mTypeError\u001b[0m: unsupported operand type(s) for /: 'function' and 'int'"
     ]
    }
   ],
   "source": [
    "def create_oz_students(name, python, database, django, AWS):\n",
    "    return{\n",
    "        \"name\" : name,\n",
    "        \"python\" : python,\n",
    "        \"database\" : database,\n",
    "        \"Django\" : django,\n",
    "        \"AWS\" : AWS\n",
    "    }\n",
    "\n",
    "def get_sum(student):\n",
    "    return student[\"python\"] + student[\"database\"] + student[\"Django\"] + student[\"AWS\"]\n",
    "\n",
    "def get_average(student):\n",
    "    return get_sum / 4\n",
    "\n",
    "def to_string(student):\n",
    "    return f'{student[\"name\"]}\\t{get_sum(student)}\\t{get_average(student)}'\n",
    "\n",
    "\n",
    "oz_students = [\n",
    "    create_oz_students(\"백현우\", 4, 3, 3, 2),\n",
    "    create_oz_students(\"홍혜인\", 4, 5, 2, 4),\n",
    "    create_oz_students(\"윤은성\", 3, 4, 4, 1),\n",
    "    create_oz_students(\"홍수철\", 2, 3, 1, 5),\n",
    "]\n",
    "\n",
    "print(\"이름\", \"총점\", \"평군\", sep=\"\\t\")\n",
    "\n",
    "for student in oz_students:\n",
    "    print(to_string(student))"
   ]
  },
  {
   "cell_type": "code",
   "execution_count": 15,
   "metadata": {},
   "outputs": [
    {
     "name": "stdout",
     "output_type": "stream",
     "text": [
      "이름\t총점\t평균\n",
      "백현우\t12\t3.0\n",
      "홍혜인\t15\t3.75\n",
      "윤은성\t12\t3.0\n",
      "홍수철\t11\t2.75\n"
     ]
    }
   ],
   "source": [
    "class COzStudereatent:\n",
    "    def __init__(self, name, python, database, django, AWS):\n",
    "        self.name = name\n",
    "        self.python =python\n",
    "        self.database = database\n",
    "        self.django = django\n",
    "        self.AWS = AWS\n",
    "\n",
    "    def get_sum(self):\n",
    "        return self.python + self.database + self.django + self.AWS\n",
    "    \n",
    "    def get_average(self):\n",
    "        return self.get_sum() / 4\n",
    "    \n",
    "    def to_string(self):\n",
    "        return f'{self.name}\\t{self.get_sum()}\\t{self.get_average()}'\n",
    "\n",
    "\n",
    "oz_students = [\n",
    "    COzStudereatent(\"백현우\", 4, 3, 3, 2),\n",
    "    COzStudereatent(\"홍혜인\", 4, 5, 2, 4),\n",
    "    COzStudereatent(\"윤은성\", 3, 4, 4, 1),\n",
    "    COzStudereatent(\"홍수철\", 2, 3, 1, 5),\n",
    "]\n",
    "\n",
    "print(\"이름\", \"총점\", \"평균\", sep=\"\\t\")\n",
    "for student in oz_students:\n",
    "    print(student.to_string())"
   ]
  },
  {
   "cell_type": "code",
   "execution_count": 18,
   "metadata": {},
   "outputs": [
    {
     "name": "stdout",
     "output_type": "stream",
     "text": [
      "isinstance(student, Student): True\n"
     ]
    }
   ],
   "source": [
    "class Student:\n",
    "    def __init__(self):\n",
    "        pass\n",
    "\n",
    "\n",
    "student = Student()\n",
    "\n",
    "print(\"isinstance(student, Student):\", isinstance(student, Student))\n",
    "\n",
    "\n",
    "\n",
    "\n",
    "\n",
    "\n",
    "\n"
   ]
  },
  {
   "cell_type": "code",
   "execution_count": 19,
   "metadata": {},
   "outputs": [
    {
     "name": "stdout",
     "output_type": "stream",
     "text": [
      "파이썬을 수강중입니다.\n",
      "파이썬을 수강중입니다.\n",
      "파이썬을 수강중입니다.\n",
      "자바를 수강중입니다\n",
      "자바를 수강중입니다\n",
      "파이썬을 수강중입니다.\n"
     ]
    }
   ],
   "source": [
    "class Python:\n",
    "    def python(self):\n",
    "        print(\"파이썬을 수강중입니다.\")\n",
    "\n",
    "class Java:\n",
    "    def java(self):\n",
    "        print(\"자바를 수강중입니다\")\n",
    "\n",
    "programming_subjects = [Python(),Python(),Python(),Java(),Java(),Python()]\n",
    "\n",
    "for subject in programming_subjects:\n",
    "    if isinstance(subject, Python):\n",
    "        subject.python()\n",
    "    elif isinstance(subject, Java):\n",
    "        subject.java()"
   ]
  }
 ],
 "metadata": {
  "kernelspec": {
   "display_name": "Python 3",
   "language": "python",
   "name": "python3"
  },
  "language_info": {
   "codemirror_mode": {
    "name": "ipython",
    "version": 3
   },
   "file_extension": ".py",
   "mimetype": "text/x-python",
   "name": "python",
   "nbconvert_exporter": "python",
   "pygments_lexer": "ipython3",
   "version": "3.9.6"
  }
 },
 "nbformat": 4,
 "nbformat_minor": 2
}
